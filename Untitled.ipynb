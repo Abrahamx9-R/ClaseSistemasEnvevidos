{
 "cells": [
  {
   "cell_type": "code",
   "execution_count": 2,
   "id": "6a5a0995",
   "metadata": {},
   "outputs": [],
   "source": [
    "import awswrangler as aws\n",
    "import pandas as pd"
   ]
  },
  {
   "cell_type": "code",
   "execution_count": 3,
   "id": "bdfde77c",
   "metadata": {},
   "outputs": [],
   "source": [
    "## leyendo desde athena\n",
    "sql = \"\"\"SELECT \"device_id\", \"mac_id\",count(*) as \"REGISTROS\"\n",
    "FROM \"embebed-cloud\".\"axolote_embebed_cloud_iot_firehose_stream\" \n",
    "GROUP BY \"device_id\",\"mac_id\"\n",
    "ORDER BY \"REGISTROS\" ASC;\n",
    "\"\"\""
   ]
  },
  {
   "cell_type": "code",
   "execution_count": 5,
   "id": "281c8b1d",
   "metadata": {},
   "outputs": [],
   "source": [
    "df = aws.athena.read_sql_query(sql,database = \"embebed-cloud\")"
   ]
  },
  {
   "cell_type": "code",
   "execution_count": 6,
   "id": "f400bdcd",
   "metadata": {},
   "outputs": [
    {
     "data": {
      "text/html": [
       "<div>\n",
       "<style scoped>\n",
       "    .dataframe tbody tr th:only-of-type {\n",
       "        vertical-align: middle;\n",
       "    }\n",
       "\n",
       "    .dataframe tbody tr th {\n",
       "        vertical-align: top;\n",
       "    }\n",
       "\n",
       "    .dataframe thead th {\n",
       "        text-align: right;\n",
       "    }\n",
       "</style>\n",
       "<table border=\"1\" class=\"dataframe\">\n",
       "  <thead>\n",
       "    <tr style=\"text-align: right;\">\n",
       "      <th></th>\n",
       "      <th>device_id</th>\n",
       "      <th>mac_id</th>\n",
       "      <th>registros</th>\n",
       "    </tr>\n",
       "  </thead>\n",
       "  <tbody>\n",
       "    <tr>\n",
       "      <th>0</th>\n",
       "      <td>Axolote_Axolote_Juan</td>\n",
       "      <td>0c:b8:15:d6:14:88</td>\n",
       "      <td>6195</td>\n",
       "    </tr>\n",
       "    <tr>\n",
       "      <th>1</th>\n",
       "      <td>Axolote_Rochio</td>\n",
       "      <td>30:c6:f7:00:04:9c</td>\n",
       "      <td>6830</td>\n",
       "    </tr>\n",
       "    <tr>\n",
       "      <th>2</th>\n",
       "      <td>Axolote_Ederik</td>\n",
       "      <td>0c:b8:15:d6:14:c4</td>\n",
       "      <td>15966</td>\n",
       "    </tr>\n",
       "    <tr>\n",
       "      <th>3</th>\n",
       "      <td>Axolote_Isabel</td>\n",
       "      <td>40:91:51:bf:c9:04</td>\n",
       "      <td>71459</td>\n",
       "    </tr>\n",
       "    <tr>\n",
       "      <th>4</th>\n",
       "      <td>Axolote_Ivan_ESP32</td>\n",
       "      <td>0c:b8:15:f7:2c:b8</td>\n",
       "      <td>93173</td>\n",
       "    </tr>\n",
       "    <tr>\n",
       "      <th>5</th>\n",
       "      <td>Axolote_Julio</td>\n",
       "      <td>0c:b8:15:f5:7a:c8</td>\n",
       "      <td>123306</td>\n",
       "    </tr>\n",
       "    <tr>\n",
       "      <th>6</th>\n",
       "      <td>Axolote_Javier</td>\n",
       "      <td>0c:b8:15:d7:c0:c4</td>\n",
       "      <td>136712</td>\n",
       "    </tr>\n",
       "    <tr>\n",
       "      <th>7</th>\n",
       "      <td>Axolote_Agustin</td>\n",
       "      <td>0c:b8:15:f5:85:b0</td>\n",
       "      <td>138017</td>\n",
       "    </tr>\n",
       "    <tr>\n",
       "      <th>8</th>\n",
       "      <td>Axolote_Aldo</td>\n",
       "      <td>ec:62:60:99:aa:30</td>\n",
       "      <td>183810</td>\n",
       "    </tr>\n",
       "    <tr>\n",
       "      <th>9</th>\n",
       "      <td>Axolote_Eduardo</td>\n",
       "      <td>40:91:51:bf:fd:f0</td>\n",
       "      <td>228122</td>\n",
       "    </tr>\n",
       "  </tbody>\n",
       "</table>\n",
       "</div>"
      ],
      "text/plain": [
       "              device_id             mac_id  registros\n",
       "0  Axolote_Axolote_Juan  0c:b8:15:d6:14:88       6195\n",
       "1        Axolote_Rochio  30:c6:f7:00:04:9c       6830\n",
       "2        Axolote_Ederik  0c:b8:15:d6:14:c4      15966\n",
       "3        Axolote_Isabel  40:91:51:bf:c9:04      71459\n",
       "4    Axolote_Ivan_ESP32  0c:b8:15:f7:2c:b8      93173\n",
       "5         Axolote_Julio  0c:b8:15:f5:7a:c8     123306\n",
       "6        Axolote_Javier  0c:b8:15:d7:c0:c4     136712\n",
       "7       Axolote_Agustin  0c:b8:15:f5:85:b0     138017\n",
       "8          Axolote_Aldo  ec:62:60:99:aa:30     183810\n",
       "9       Axolote_Eduardo  40:91:51:bf:fd:f0     228122"
      ]
     },
     "execution_count": 6,
     "metadata": {},
     "output_type": "execute_result"
    }
   ],
   "source": [
    "df"
   ]
  },
  {
   "cell_type": "code",
   "execution_count": null,
   "id": "5db91b76",
   "metadata": {},
   "outputs": [],
   "source": []
  }
 ],
 "metadata": {
  "kernelspec": {
   "display_name": "Python 3 (ipykernel)",
   "language": "python",
   "name": "python3"
  },
  "language_info": {
   "codemirror_mode": {
    "name": "ipython",
    "version": 3
   },
   "file_extension": ".py",
   "mimetype": "text/x-python",
   "name": "python",
   "nbconvert_exporter": "python",
   "pygments_lexer": "ipython3",
   "version": "3.10.6"
  }
 },
 "nbformat": 4,
 "nbformat_minor": 5
}
